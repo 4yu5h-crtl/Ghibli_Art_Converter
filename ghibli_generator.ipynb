 {
 "cells": [
  {
   "cell_type": "markdown",
   "metadata": {},
   "source": [
    "# 🎨 Studio Ghibli Art Generator\n",
    "\n",
    "This notebook allows you to transform your images into Studio Ghibli-style artwork using Stable Diffusion."
   ]
  },
  {
   "cell_type": "markdown",
   "metadata": {},
   "source": [
    "## Installation\n",
    "\n",
    "First, let's install the required dependencies:"
   ]
  },
  {
   "cell_type": "code",
   "execution_count": null,
   "metadata": {},
   "outputs": [],
   "source": [
    "!pip install torch torchvision torchaudio diffusers transformers accelerate safetensors pillow"
   ]
  },
  {
   "cell_type": "markdown",
   "metadata": {},
   "source": [
    "## Import Libraries"
   ]
  },
  {
   "cell_type": "code",
   "execution_count": null,
   "metadata": {},
   "outputs": [],
   "source": [
    "import torch\n",
    "from diffusers import StableDiffusionImg2ImgPipeline\n",
    "from PIL import Image\n",
    "import io\n",
    "from IPython.display import display\n",
    "import ipywidgets as widgets\n",
    "from IPython.display import clear_output"
   ]
  },
  {
   "cell_type": "markdown",
   "metadata": {},
   "source": [
    "## Load the Model"
   ]
  },
  {
   "cell_type": "code",
   "execution_count": null,
   "metadata": {},
   "outputs": [],
   "source": [
    "def load_model():\n",
    "    device = \"cuda\" if torch.cuda.is_available() else \"cpu\"\n",
    "    print(f\"Using device: {device}\")\n",
    "    \n",
    "    pipe = StableDiffusionImg2ImgPipeline.from_pretrained(\n",
    "        \"stabilityai/stable-diffusion-2-1\",\n",
    "        torch_dtype=torch.float32\n",
    "    ).to(device)\n",
    "    return pipe\n",
    "\n",
    "pipe = load_model()"
   ]
  },
  {
   "cell_type": "markdown",
   "metadata": {},
   "source": [
    "## Create UI Elements"
   ]
  },
  {
   "cell_type": "code",
   "execution_count": null,
   "metadata": {},
   "outputs": [],
   "source": [
    "# Create widgets\n",
    "upload = widgets.FileUpload(\n",
    "    accept='.jpg,.jpeg,.png',\n",
    "    multiple=False,\n",
    "    description='Upload Image:'\n",
    ")\n",
    "\n",
    "strength_slider = widgets.FloatSlider(\n",
    "    value=0.75,\n",
    "    min=0.0,\n",
    "    max=1.0,\n",
    "    step=0.05,\n",
    "    description='Strength:',\n",
    "    continuous_update=False\n",
    ")\n",
    "\n",
    "guidance_slider = widgets.FloatSlider(\n",
    "    value=7.5,\n",
    "    min=0.0,\n",
    "    max=20.0,\n",
    "    step=0.5,\n",
    "    description='Guidance:',\n",
    "    continuous_update=False\n",
    ")\n",
    "\n",
    "prompt_text = widgets.Textarea(\n",
    "    value='A beautiful Studio Ghibli-style landscape with vibrant colors and soft lighting',\n",
    "    description='Prompt:',\n",
    "    layout=widgets.Layout(width='100%')\n",
    ")\n",
    "\n",
    "transform_button = widgets.Button(\n",
    "    description='Transform Image',\n",
    "    button_style='success'\n",
    ")\n",
    "\n",
    "# Create output area\n",
    "output = widgets.Output()"
   ]
  },
  {
   "cell_type": "markdown",
   "metadata": {},
   "source": [
    "## Display UI and Handle Transformations"
   ]
  },
  {
   "cell_type": "code",
   "execution_count": null,
   "metadata": {},
   "outputs": [],
   "source": [
    "def on_transform_button_clicked(b):\n",
    "    with output:\n",
    "        clear_output()\n",
    "        \n",
    "        if not upload.value:\n",
    "            print(\"Please upload an image first!\")\n",
    "            return\n",
    "            \n",
    "        # Get the uploaded image\n",
    "        uploaded_file = list(upload.value.values())[0]\n",
    "        image_bytes = uploaded_file['content']\n",
    "        \n",
    "        # Convert to PIL Image\n",
    "        init_image = Image.open(io.BytesIO(image_bytes)).convert(\"RGB\")\n",
    "        init_image = init_image.resize((512, 512))\n",
    "        \n",
    "        # Display original image\n",
    "        print(\"Original Image:\")\n",
    "        display(init_image)\n",
    "        \n",
    "        print(\"Generating Ghibli-style image...\")\n",
    "        \n",
    "        # Generate image\n",
    "        generator = torch.manual_seed(42)\n",
    "        output_image = pipe(\n",
    "            prompt=prompt_text.value,\n",
    "            image=init_image,\n",
    "            strength=strength_slider.value,\n",
    "            guidance_scale=guidance_slider.value\n",
    "        ).images[0]\n",
    "        \n",
    "        # Display result\n",
    "        print(\"Generated Image:\")\n",
    "        display(output_image)\n",
    "        \n",
    "        # Save the image\n",
    "        output_image.save(\"ghibli_output.png\")\n",
    "        print(\"\\nImage saved as 'ghibli_output.png'\")"

   ]
  },
  {
   "cell_type": "code",
   "execution_count": null,
   "metadata": {},
   "outputs": [],
   "source": [
    "# Connect the button to the function\n",
    "transform_button.on_click(on_transform_button_clicked)\n",
    "\n",
    "# Display the UI\n",
    "display(widgets.VBox([\n",
    "    upload,\n",
    "    strength_slider,\n",
    "    guidance_slider,\n",
    "    prompt_text,\n",
    "    transform_button,\n",
    "    output\n",
    "]))"
   ]
  },
  {
   "cell_type": "markdown",
   "metadata": {},
   "source": [
    "## Usage Instructions\n",
    "\n",
    "1. Upload an image using the file uploader\n",
    "2. Adjust the settings:\n",
    "   - **Strength**: Controls how much the AI modifies the image (0.0 to 1.0)\n",
    "   - **Guidance**: Controls how closely the AI follows the prompt (0.0 to 20.0)\n",
    "   - **Prompt**: Customize the style description\n",
    "3. Click \"Transform Image\" to generate the Ghibli-style version\n",
    "4. The generated image will be displayed and saved as 'ghibli_output.png'\n",
    "\n",
    "### Tips for Best Results:\n",
    "- Use high-quality images for better results\n",
    "- Adjust the transformation strength to control how much the image changes\n",
    "- Try different prompts to achieve different styles\n",
    "- Higher guidance values will make the AI follow the prompt more closely\n",
    "\n",
    "### Note:\n",
    "The first run will download the Stable Diffusion model, which may take a few minutes."
   ]
  }
 ],
 "metadata": {
  "kernelspec": {
   "display_name": "Python 3",
   "language": "python",
   "name": "python3"
  },
  "language_info": {
   "codemirror_mode": {
    "name": "ipython",
    "version": 3
   },
   "file_extension": ".py",
   "mimetype": "text/x-python",
   "name": "python",
   "nbconvert_exporter": "python",
   "pygments_lexer": "ipython3",
   "version": "3.8.0"
  }
 },
 "nbformat": 4,
 "nbformat_minor": 4
}