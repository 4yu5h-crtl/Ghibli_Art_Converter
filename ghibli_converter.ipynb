{
    "cells": [
     {
      "cell_type": "markdown",
      "metadata": {},
      "source": [
       "# Ghibli-Style Image Converter\n",
       "\n",
       "This notebook converts your images to Ghibli-style artwork using the Stable Diffusion model."
      ]
     },
     {
      "cell_type": "code",
      "execution_count": null,
      "metadata": {},
      "source": [
       "# Install required packages\n",
       "!pip install diffusers transformers torch accelerate"
      ]
     },
     {
      "cell_type": "code",
      "execution_count": null,
      "metadata": {},
      "source": [
       "from diffusers import StableDiffusionImg2ImgPipeline\n",
       "import torch\n",
       "from PIL import Image\n",
       "import io\n",
       "from google.colab import files\n",
       "import matplotlib.pyplot as plt\n",
       "import time"
      ]
     },
     {
      "cell_type": "markdown",
      "metadata": {},
      "source": [
       "## Load the Ghibli Diffusion Model"
      ]
     },
     {
      "cell_type": "code",
      "execution_count": null,
      "metadata": {},
      "source": [
       "# Load model function\n",
       "def load_model():\n",
       "    model_id = \"nitrosocke/Ghibli-Diffusion\"  # Correct model ID\n",
       "    dtype = torch.float16 if torch.cuda.is_available() else torch.float32\n",
       "    print(\"Loading model...\")\n",
       "    pipe = StableDiffusionImg2ImgPipeline.from_pretrained(model_id, torch_dtype=dtype)\n",
       "    pipe.to(\"cuda\" if torch.cuda.is_available() else \"cpu\")\n",
       "    pipe.enable_attention_slicing()  # Optimize memory usage\n",
       "    print(\"Model loaded!\")\n",
       "    return pipe"
      ]
     },
     {
      "cell_type": "code",
      "execution_count": null,
      "metadata": {},
      "source": [
       "# Check for GPU\n",
       "gpu_info = \"GPU is available!\" if torch.cuda.is_available() else \"Warning: GPU not available. Processing will be slow.\"\n",
       "print(gpu_info)\n",
       "\n",
       "# Load the model\n",
       "pipe = load_model()"
      ]
     },
     {
      "cell_type": "markdown",
      "metadata": {},
      "source": [
       "## Define the Image Generation Function"
      ]
     },
     {
      "cell_type": "code",
      "execution_count": null,
      "metadata": {},
      "source": [
       "# Function to generate Ghibli-style image\n",
       "def generate_ghibli_image(image, pipe, strength):\n",
       "    image = image.convert(\"RGB\")\n",
       "    image = image.resize((512, 512))  # Ensure proper size\n",
       "    \n",
       "    prompt = \"Ghibli-style anime painting, soft pastel colors, highly detailed, masterpiece\"\n",
       "    \n",
       "    print(\"Generating image...\")\n",
       "    start_time = time.time()\n",
       "    result = pipe(prompt=prompt, image=image, strength=strength).images[0]\n",
       "    print(f\"Image generated in {time.time() - start_time:.2f} seconds!\")\n",
       "    return result"
      ]
     },
     {
      "cell_type": "markdown",
      "metadata": {},
      "source": [
       "## Upload and Process Your Image"
      ]
     },
     {
      "cell_type": "code",
      "execution_count": null,
      "metadata": {},
      "source": [
       "# Upload image section\n",
       "print(\"Please upload your image file:\")\n",
       "uploaded = files.upload()"
      ]
     },
     {
      "cell_type": "code",
      "execution_count": null,
      "metadata": {},
      "source": [
       "if uploaded:\n",
       "    file_name = list(uploaded.keys())[0]\n",
       "    image = Image.open(io.BytesIO(uploaded[file_name]))\n",
       "    \n",
       "    # Display original image\n",
       "    plt.figure(figsize=(5, 5))\n",
       "    plt.imshow(image)\n",
       "    plt.title(\"Original Image\")\n",
       "    plt.axis('off')\n",
       "    plt.show()\n",
       "    \n",
       "    # Ask for strength input with error handling\n",
       "    while True:\n",
       "        try:\n",
       "            strength = float(input(\"Enter stylization strength (0.3-0.8, recommended 0.6): \"))\n",
       "            strength = max(0.3, min(0.8, strength))  # Clamp between 0.3 and 0.8\n",
       "            break\n",
       "        except ValueError:\n",
       "            print(\"Invalid input. Please enter a number between 0.3 and 0.8.\")\n",
       "    \n",
       "    # Generate and display the result\n",
       "    result_img = generate_ghibli_image(image, pipe, strength)\n",
       "    \n",
       "    plt.figure(figsize=(5, 5))\n",
       "    plt.imshow(result_img)\n",
       "    plt.title(\"Ghibli Portrait\")\n",
       "    plt.axis('off')\n",
       "    plt.show()\n",
       "    \n",
       "    # Save the output image and offer download\n",
       "    output_filename = f\"ghibli_portrait_{file_name}\"\n",
       "    result_img.save(output_filename)\n",
       "    files.download(output_filename)\n",
       "    print(f\"Image saved as {output_filename} and download initiated!\")\n",
       "else:\n",
       "    print(\"No file was uploaded. Please run the cell again and upload an image.\")"
      ]
     },
     {
      "cell_type": "markdown",
      "metadata": {},
      "source": [
       "## How to Use This Notebook\n",
       "\n",
       "1. Run all cells in order\n",
       "2. When prompted, upload an image file\n",
       "3. Enter a stylization strength between 0.3 and 0.8 (0.6 is recommended)\n",
       "4. Wait for the image to be processed\n",
       "5. The Ghibli-style image will be displayed and automatically downloaded\n",
       "\n",
       "Note: This notebook works best in Google Colab with GPU acceleration enabled."
      ]
     }
    ],
    "metadata": {
     "kernelspec": {
      "display_name": "Python 3",
      "language": "python",
      "name": "python3"
     },
     "language_info": {
      "codemirror_mode": {
       "name": "ipython",
       "version": 3
      },
      "file_extension": ".py",
      "mimetype": "text/x-python",
      "name": "python",
      "nbconvert_exporter": "python",
      "pygments_lexer": "ipython3",
      "version": "3.8.10"
     }
    },
    "nbformat": 4,
    "nbformat_minor": 4
   }